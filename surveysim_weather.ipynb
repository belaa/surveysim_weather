{
 "cells": [
  {
   "cell_type": "markdown",
   "metadata": {},
   "source": [
    "## Looking at effects of different weather on survey completeness"
   ]
  },
  {
   "cell_type": "code",
   "execution_count": 1,
   "metadata": {
    "collapsed": false
   },
   "outputs": [
    {
     "name": "stdout",
     "output_type": "stream",
     "text": [
      "Populating the interactive namespace from numpy and matplotlib\n"
     ]
    }
   ],
   "source": [
    "%pylab inline"
   ]
  },
  {
   "cell_type": "code",
   "execution_count": 159,
   "metadata": {
    "collapsed": true
   },
   "outputs": [],
   "source": [
    "from astropy.table import Table\n",
    "from astropy.time import Time\n",
    "\n",
    "from desisurvey.progress import Progress"
   ]
  },
  {
   "cell_type": "code",
   "execution_count": 6,
   "metadata": {
    "collapsed": true
   },
   "outputs": [],
   "source": [
    "surveysim_output = '/Users/belaabolfathi/surveysim_output/'"
   ]
  },
  {
   "cell_type": "code",
   "execution_count": 10,
   "metadata": {
    "collapsed": false
   },
   "outputs": [
    {
     "name": "stdout",
     "output_type": "stream",
     "text": [
      "output_211\n",
      "output_311\n",
      "output_44\n",
      "output_532\n",
      "output_89\n"
     ]
    }
   ],
   "source": [
    "%%sh\n",
    "cd /Users/belaabolfathi/surveysim_output\n",
    "ls"
   ]
  },
  {
   "cell_type": "markdown",
   "metadata": {},
   "source": [
    "#### Import progress files for different seeds"
   ]
  },
  {
   "cell_type": "code",
   "execution_count": 43,
   "metadata": {
    "collapsed": false
   },
   "outputs": [],
   "source": [
    "progress44 = Table.read(surveysim_output+'output_44/progress.fits')\n",
    "progress89 = Table.read(surveysim_output+'output_89/progress.fits')\n",
    "progress211 = Table.read(surveysim_output+'output_211/progress.fits')\n",
    "progress311 = Table.read(surveysim_output+'output_311/progress.fits')\n",
    "progress532 = Table.read(surveysim_output+'output_532/progress.fits')"
   ]
  },
  {
   "cell_type": "code",
   "execution_count": 148,
   "metadata": {
    "collapsed": false
   },
   "outputs": [
    {
     "name": "stdout",
     "output_type": "stream",
     "text": [
      "INFO:progress.py:133:__init__: Loaded progress from /Users/belaabolfathi/surveysim_output/output_211/progress.fits.\n"
     ]
    },
    {
     "name": "stderr",
     "output_type": "stream",
     "text": [
      "INFO:DESI:Loaded progress from /Users/belaabolfathi/surveysim_output/output_211/progress.fits.\n",
      "WARNING: ErfaWarning: ERFA function \"d2dtf\" yielded 1 of \"dubious year (Note 5)\" [astropy._erfa.core]\n",
      "WARNING:astropy:ErfaWarning: ERFA function \"d2dtf\" yielded 1 of \"dubious year (Note 5)\"\n",
      "WARNING: ErfaWarning: ERFA function \"dtf2d\" yielded 1 of \"dubious year (Note 6)\" [astropy._erfa.core]\n",
      "WARNING:astropy:ErfaWarning: ERFA function \"dtf2d\" yielded 1 of \"dubious year (Note 6)\"\n"
     ]
    },
    {
     "data": {
      "text/html": [
       "&lt;Table length=2&gt;\n",
       "<table id=\"table4516980888\" class=\"table-striped table-bordered table-condensed\">\n",
       "<thead><tr><th>tileid</th><th>pass</th><th>ra</th><th>dec</th><th>night</th><th>mjd</th><th>exptime</th><th>seeing</th><th>transparency</th><th>airmass</th><th>moonfrac</th><th>moonalt</th><th>moonsep</th></tr></thead>\n",
       "<thead><tr><th></th><th></th><th></th><th></th><th></th><th></th><th>s</th><th>arcsec</th><th></th><th></th><th></th><th>deg</th><th>deg</th></tr></thead>\n",
       "<thead><tr><th>int32</th><th>int16</th><th>float64</th><th>float64</th><th>str10</th><th>float64</th><th>float64</th><th>float64</th><th>float64</th><th>float64</th><th>float64</th><th>float64</th><th>float64</th></tr></thead>\n",
       "<tr><td>28833</td><td>5</td><td>341.04</td><td>29.76</td><td>2019-12-01</td><td>58819.0583701</td><td>533.0788911</td><td>0.857768177986</td><td>0.881722152233</td><td>1.00088236354</td><td>0.315489669913</td><td>34.1941411183</td><td>54.4260075235</td></tr>\n",
       "<tr><td>23195</td><td>4</td><td>343.4</td><td>30.09</td><td>2019-12-01</td><td>58819.0659289</td><td>866.619607194</td><td>1.3745957613</td><td>0.93572062254</td><td>1.0006894996</td><td>0.315489669913</td><td>33.3652328242</td><td>55.6326331094</td></tr>\n",
       "</table>"
      ],
      "text/plain": [
       "<Table length=2>\n",
       "tileid  pass    ra     dec   ...    moonfrac       moonalt       moonsep   \n",
       "                             ...                     deg           deg     \n",
       "int32  int16 float64 float64 ...    float64        float64       float64   \n",
       "------ ----- ------- ------- ... -------------- ------------- -------------\n",
       " 28833     5  341.04   29.76 ... 0.315489669913 34.1941411183 54.4260075235\n",
       " 23195     4   343.4   30.09 ... 0.315489669913 33.3652328242 55.6326331094"
      ]
     },
     "execution_count": 148,
     "metadata": {},
     "output_type": "execute_result"
    }
   ],
   "source": [
    "# Just seeing what the exposure table looks like...\n",
    "\n",
    "Progress(restore=surveysim_output+'output_211/progress.fits').get_exposures().write('exposures211.fits')\n",
    "exposures211 = Table.read('exposures211.fits')\n",
    "exposures211[:2]\n",
    "# each tile is viewed 1-3 times it seems\n",
    "# want to group by tile, not exposure (max # exposures is 32)"
   ]
  },
  {
   "cell_type": "markdown",
   "metadata": {},
   "source": [
    "#### Look at frequency of passes over survey lifetime"
   ]
  },
  {
   "cell_type": "code",
   "execution_count": 139,
   "metadata": {
    "collapsed": false
   },
   "outputs": [
    {
     "data": {
      "image/png": "[encoded data removed]",
      "text/plain": [
       "<matplotlib.figure.Figure at 0x10b562d68>"
      ]
     },
     "metadata": {},
     "output_type": "display_data"
    }
   ],
   "source": [
    "def get_pass(table, pass_number):\n",
    "    return(table[table['pass'] == pass_number])\n",
    "\n",
    "# picks out first exposure in each tile\n",
    "# seed 211\n",
    "plt.figure(figsize=(10,7))\n",
    "plt.hist((get_pass(progress211, 1)['mjd'][:,0], get_pass(progress211, 2)['mjd'][:,0], \n",
    "          get_pass(progress211, 3)['mjd'][:,0], get_pass(progress211, 4)['mjd'][:,0],\n",
    "         get_pass(progress211, 5)['mjd'][:,0]), bins=20, range=(58750,60500), \n",
    "         label=('pass1', 'pass2', 'pass3', 'pass4', 'pass5'))\n",
    "plt.legend()\n",
    "plt.show()"
   ]
  },
  {
   "cell_type": "code",
   "execution_count": 340,
   "metadata": {
    "collapsed": false
   },
   "outputs": [
    {
     "name": "stdout",
     "output_type": "stream",
     "text": [
      "Seed 211 start: 58819.05837013017, end: 60553.40369270227\n",
      "Seed 311 start: 58819.05837013017, end: 60499.42910391255\n"
     ]
    }
   ],
   "source": [
    "def get_start_end_dates(exposures):\n",
    "    return(np.min(exposures['mjd']), np.max(exposures['mjd']))\n",
    "\n",
    "start211, end211 = get_start_end_dates(exposures211)\n",
    "print('Seed 211 start: {}, end: {}'.format(start211, end211))\n",
    "\n",
    "start311, end311 = get_start_end_dates(exposures311)\n",
    "print('Seed 311 start: {}, end: {}'.format(start311, end311))"
   ]
  },
  {
   "cell_type": "markdown",
   "metadata": {},
   "source": [
    "#### Histogram of completed tiles for each seed"
   ]
  },
  {
   "cell_type": "code",
   "execution_count": 337,
   "metadata": {
    "collapsed": false
   },
   "outputs": [],
   "source": [
    "# have as input the date at which you want to calculate the fraction of completed tiles\n",
    "\n",
    "def get_progress_file(seed):\n",
    "    return surveysim_output+'output_'+str(seed)+'/progress.fits'\n",
    "\n",
    "def get_completed(seed, start_date, end_date, percent=False):\n",
    "    file = get_progress_file(seed)\n",
    "    progress = Progress(restore=file, max_exposures=32)\n",
    "    num_complete, num_total, percent_complete = progress.copy_range(mjd_min=start_date, \n",
    "                                                                    mjd_max=end_date).completed(include_partial=True, \n",
    "                                                                    only_passes=None, as_tuple=True)\n",
    "    if percent:\n",
    "        return(percent_complete)\n",
    "    \n",
    "    else: \n",
    "        return(num_complete)\n",
    "\n",
    "def tile_progress(seed_list, start_date='2019-12-01', end_date=None, percent_complete=False):\n",
    "    # progress is a list of progress seeds\n",
    "   \n",
    "    completed = []\n",
    "    seed_index = np.arange(len(seed_list))\n",
    "    seed_num = []\n",
    "    start_mjd = Time(start_date).mjd\n",
    "    end_mjd = Time(end_date).mjd\n",
    "    \n",
    "    if percent_complete:\n",
    "        for i, seed in enumerate(seed_list):\n",
    "            completed.append(get_completed(seed, start_mjd, end_mjd, percent=True))\n",
    "            seed_num.append('Seed '+str(seed))\n",
    "            plt.ylabel('Percentage completed')\n",
    "        \n",
    "    else:\n",
    "        for i, seed in enumerate(seed_list):\n",
    "            completed.append(get_completed(seed, start_mjd, end_mjd))\n",
    "            seed_num.append('Seed '+str(seed))\n",
    "            plt.ylabel('Number completed (out of 16071)')\n",
    "        \n",
    "    plt.bar(seed_index, np.asarray(completed), align='center', alpha=0.5)\n",
    "    objects = seed_num\n",
    "    plt.xticks(seed_index, objects)\n",
    "    plt.title('Start date: {}, End date: {}'.format(start_date, end_date))"
   ]
  },
  {
   "cell_type": "markdown",
   "metadata": {},
   "source": [
    "##### Can view as percent of total tiles comlete"
   ]
  },
  {
   "cell_type": "code",
   "execution_count": 338,
   "metadata": {
    "collapsed": false
   },
   "outputs": [
    {
     "name": "stdout",
     "output_type": "stream",
     "text": [
      "INFO:progress.py:133:__init__: Loaded progress from /Users/belaabolfathi/surveysim_output/output_44/progress.fits.\n"
     ]
    },
    {
     "name": "stderr",
     "output_type": "stream",
     "text": [
      "INFO:DESI:Loaded progress from /Users/belaabolfathi/surveysim_output/output_44/progress.fits.\n"
     ]
    },
    {
     "name": "stdout",
     "output_type": "stream",
     "text": [
      "INFO:progress.py:133:__init__: Loaded progress from /Users/belaabolfathi/surveysim_output/output_89/progress.fits.\n"
     ]
    },
    {
     "name": "stderr",
     "output_type": "stream",
     "text": [
      "INFO:DESI:Loaded progress from /Users/belaabolfathi/surveysim_output/output_89/progress.fits.\n"
     ]
    },
    {
     "name": "stdout",
     "output_type": "stream",
     "text": [
      "INFO:progress.py:133:__init__: Loaded progress from /Users/belaabolfathi/surveysim_output/output_211/progress.fits.\n"
     ]
    },
    {
     "name": "stderr",
     "output_type": "stream",
     "text": [
      "INFO:DESI:Loaded progress from /Users/belaabolfathi/surveysim_output/output_211/progress.fits.\n"
     ]
    },
    {
     "name": "stdout",
     "output_type": "stream",
     "text": [
      "INFO:progress.py:133:__init__: Loaded progress from /Users/belaabolfathi/surveysim_output/output_311/progress.fits.\n"
     ]
    },
    {
     "name": "stderr",
     "output_type": "stream",
     "text": [
      "INFO:DESI:Loaded progress from /Users/belaabolfathi/surveysim_output/output_311/progress.fits.\n"
     ]
    },
    {
     "name": "stdout",
     "output_type": "stream",
     "text": [
      "INFO:progress.py:133:__init__: Loaded progress from /Users/belaabolfathi/surveysim_output/output_532/progress.fits.\n"
     ]
    },
    {
     "name": "stderr",
     "output_type": "stream",
     "text": [
      "INFO:DESI:Loaded progress from /Users/belaabolfathi/surveysim_output/output_532/progress.fits.\n"
     ]
    },
    {
     "data": {
      "image/png": "[encoded data removed]",
      "text/plain": [
       "<matplotlib.figure.Figure at 0x10c2a0208>"
      ]
     },
     "metadata": {},
     "output_type": "display_data"
    }
   ],
   "source": [
    "tile_progress([44, 89, 211, 311, 532], end_date='2020-08-09', percent_complete=True)"
   ]
  },
  {
   "cell_type": "markdown",
   "metadata": {},
   "source": [
    "##### View as number of tiles completed"
   ]
  },
  {
   "cell_type": "code",
   "execution_count": 339,
   "metadata": {
    "collapsed": false
   },
   "outputs": [
    {
     "name": "stdout",
     "output_type": "stream",
     "text": [
      "INFO:progress.py:133:__init__: Loaded progress from /Users/belaabolfathi/surveysim_output/output_44/progress.fits.\n"
     ]
    },
    {
     "name": "stderr",
     "output_type": "stream",
     "text": [
      "INFO:DESI:Loaded progress from /Users/belaabolfathi/surveysim_output/output_44/progress.fits.\n"
     ]
    },
    {
     "name": "stdout",
     "output_type": "stream",
     "text": [
      "INFO:progress.py:133:__init__: Loaded progress from /Users/belaabolfathi/surveysim_output/output_89/progress.fits.\n"
     ]
    },
    {
     "name": "stderr",
     "output_type": "stream",
     "text": [
      "INFO:DESI:Loaded progress from /Users/belaabolfathi/surveysim_output/output_89/progress.fits.\n"
     ]
    },
    {
     "name": "stdout",
     "output_type": "stream",
     "text": [
      "INFO:progress.py:133:__init__: Loaded progress from /Users/belaabolfathi/surveysim_output/output_211/progress.fits.\n"
     ]
    },
    {
     "name": "stderr",
     "output_type": "stream",
     "text": [
      "INFO:DESI:Loaded progress from /Users/belaabolfathi/surveysim_output/output_211/progress.fits.\n"
     ]
    },
    {
     "name": "stdout",
     "output_type": "stream",
     "text": [
      "INFO:progress.py:133:__init__: Loaded progress from /Users/belaabolfathi/surveysim_output/output_311/progress.fits.\n"
     ]
    },
    {
     "name": "stderr",
     "output_type": "stream",
     "text": [
      "INFO:DESI:Loaded progress from /Users/belaabolfathi/surveysim_output/output_311/progress.fits.\n"
     ]
    },
    {
     "name": "stdout",
     "output_type": "stream",
     "text": [
      "INFO:progress.py:133:__init__: Loaded progress from /Users/belaabolfathi/surveysim_output/output_532/progress.fits.\n"
     ]
    },
    {
     "name": "stderr",
     "output_type": "stream",
     "text": [
      "INFO:DESI:Loaded progress from /Users/belaabolfathi/surveysim_output/output_532/progress.fits.\n"
     ]
    },
    {
     "data": {
      "image/png": "[encoded data removed]",
      "text/plain": [
       "<matplotlib.figure.Figure at 0x1097eb0b8>"
      ]
     },
     "metadata": {},
     "output_type": "display_data"
    }
   ],
   "source": [
    "tile_progress([44, 89, 211, 311, 532], end_date='2020-08-09')"
   ]
  },
  {
   "cell_type": "code",
   "execution_count": null,
   "metadata": {
    "collapsed": true
   },
   "outputs": [],
   "source": []
  }
 ],
 "metadata": {
  "anaconda-cloud": {},
  "kernelspec": {
   "display_name": "Python [default]",
   "language": "python",
   "name": "python3"
  },
  "language_info": {
   "codemirror_mode": {
    "name": "ipython",
    "version": 3
   },
   "file_extension": ".py",
   "mimetype": "text/x-python",
   "name": "python",
   "nbconvert_exporter": "python",
   "pygments_lexer": "ipython3",
   "version": "3.5.1"
  }
 },
 "nbformat": 4,
 "nbformat_minor": 1
}
